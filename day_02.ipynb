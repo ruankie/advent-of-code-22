{
 "cells": [
  {
   "cell_type": "markdown",
   "metadata": {},
   "source": [
    "# Define Rules"
   ]
  },
  {
   "cell_type": "code",
   "execution_count": 1,
   "metadata": {},
   "outputs": [],
   "source": [
    "# my shape points\n",
    "my_shape_pts = {\n",
    "    \"X\": 1, # rock\n",
    "    \"Y\": 2, # paper\n",
    "    \"Z\": 3 # scissors\n",
    "}\n",
    "\n",
    "# outcome points (from our point of view)\n",
    "outcome_pts = {\n",
    "    \"lose\": 0,\n",
    "    \"draw\": 3,\n",
    "    \"win\": 6\n",
    "}"
   ]
  },
  {
   "cell_type": "code",
   "execution_count": 2,
   "metadata": {},
   "outputs": [],
   "source": [
    "# decode my shapes\n",
    "my_shape_codes = {\n",
    "    \"X\": \"rock\",\n",
    "    \"Y\": \"paper\",\n",
    "    \"Z\": \"scissors\"\n",
    "}\n",
    "\n",
    "# decode opponent shapes\n",
    "opponent_shape_codes = {\n",
    "    \"A\": \"rock\",\n",
    "    \"B\": \"paper\",\n",
    "    \"C\": \"scissors\"\n",
    "}"
   ]
  },
  {
   "cell_type": "markdown",
   "metadata": {},
   "source": [
    "# Helper Functions"
   ]
  },
  {
   "cell_type": "code",
   "execution_count": 3,
   "metadata": {},
   "outputs": [],
   "source": [
    "def get_my_outcome(opponent_shape_code:str, my_shape_code:str) -> str:\n",
    "    \"\"\"\n",
    "    Return the outcome from my point of view\n",
    "    given my shape and my opponent's shape.\n",
    "    \"\"\"\n",
    "    # decode shapes\n",
    "    my_shape = my_shape_codes[my_shape_code]\n",
    "    opponent_shape = opponent_shape_codes[opponent_shape_code]\n",
    "\n",
    "    # get outcome\n",
    "    # draw\n",
    "    if opponent_shape == my_shape:\n",
    "        return \"draw\"\n",
    "\n",
    "    # they have rock\n",
    "    elif (opponent_shape == \"rock\") and (my_shape == \"paper\"):\n",
    "        return \"win\"\n",
    "    elif (opponent_shape == \"rock\") and (my_shape == \"scissors\"):\n",
    "        return \"lose\"\n",
    "\n",
    "    # they have paper\n",
    "    elif (opponent_shape == \"paper\") and (my_shape == \"rock\"):\n",
    "        return \"lose\"\n",
    "    elif (opponent_shape == \"paper\") and (my_shape == \"scissors\"):\n",
    "        return \"win\"\n",
    "\n",
    "    # they have scissors\n",
    "    elif (opponent_shape == \"scissors\") and (my_shape == \"rock\"):\n",
    "        return \"win\"\n",
    "    elif (opponent_shape == \"scissors\") and (my_shape == \"paper\"):\n",
    "        return \"lose\""
   ]
  },
  {
   "cell_type": "code",
   "execution_count": 4,
   "metadata": {},
   "outputs": [],
   "source": [
    "def calculate_score(strat_guide: dict) -> int:\n",
    "    \"\"\"Given strategy guide, calculate my total score.\"\"\"\n",
    "    # initialise score\n",
    "    my_score = 0\n",
    "\n",
    "    # update score from strategy guide\n",
    "    for opponent_shape_code, my_shape_code in strat_guide:        \n",
    "        # add shape points\n",
    "        my_score += my_shape_pts[my_shape_code]\n",
    "\n",
    "        # add outcome points\n",
    "        my_outcome = get_my_outcome(opponent_shape_code, my_shape_code)\n",
    "        my_score += outcome_pts[my_outcome]\n",
    "\n",
    "    return my_score"
   ]
  },
  {
   "cell_type": "markdown",
   "metadata": {},
   "source": [
    "# Calculate Result"
   ]
  },
  {
   "cell_type": "code",
   "execution_count": 5,
   "metadata": {},
   "outputs": [],
   "source": [
    "# # example strategy guide (input)\n",
    "# sg = [\n",
    "#     (\"A\",\"Y\"),\n",
    "#     (\"B\",\"X\"),\n",
    "#     (\"C\",\"Z\")\n",
    "# ]"
   ]
  },
  {
   "cell_type": "code",
   "execution_count": 6,
   "metadata": {},
   "outputs": [],
   "source": [
    "# get strategy guide from file\n",
    "sg = []\n",
    "with open(\"./inputs/day_02.txt\", \"r\") as f:\n",
    "    lines = f.readlines()\n",
    "    \n",
    "for line in lines:\n",
    "    opp_shape, my_shape = line.strip().split(\" \")\n",
    "    sg.append((opp_shape, my_shape))"
   ]
  },
  {
   "cell_type": "code",
   "execution_count": 7,
   "metadata": {},
   "outputs": [
    {
     "data": {
      "text/plain": [
       "11666"
      ]
     },
     "execution_count": 7,
     "metadata": {},
     "output_type": "execute_result"
    }
   ],
   "source": [
    "calculate_score(sg)"
   ]
  }
 ],
 "metadata": {
  "kernelspec": {
   "display_name": "Python 3.9.12 ('base')",
   "language": "python",
   "name": "python3"
  },
  "language_info": {
   "codemirror_mode": {
    "name": "ipython",
    "version": 3
   },
   "file_extension": ".py",
   "mimetype": "text/x-python",
   "name": "python",
   "nbconvert_exporter": "python",
   "pygments_lexer": "ipython3",
   "version": "3.9.12"
  },
  "orig_nbformat": 4,
  "vscode": {
   "interpreter": {
    "hash": "e2af3b8a9714b5396bfa70034f7976d07b91000518cbac1e88019645944f4bcb"
   }
  }
 },
 "nbformat": 4,
 "nbformat_minor": 2
}
