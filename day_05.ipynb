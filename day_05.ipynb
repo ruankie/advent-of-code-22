{
 "cells": [
  {
   "cell_type": "code",
   "execution_count": 1,
   "metadata": {},
   "outputs": [],
   "source": [
    "import copy"
   ]
  },
  {
   "cell_type": "markdown",
   "metadata": {},
   "source": [
    "# Initial Config"
   ]
  },
  {
   "cell_type": "code",
   "execution_count": 2,
   "metadata": {},
   "outputs": [],
   "source": [
    "conf = {\n",
    "    1: [\"Z\", \"T\", \"F\", \"R\", \"W\", \"J\", \"G\"],\n",
    "    2: [\"G\", \"W\", \"M\"],\n",
    "    3: [\"J\", \"N\", \"H\", \"G\"],\n",
    "    4: [\"J\", \"R\", \"C\", \"N\", \"W\"],\n",
    "    5: [\"W\", \"F\", \"S\", \"B\", \"G\", \"Q\", \"V\", \"M\"],\n",
    "    6: [\"S\", \"R\", \"T\", \"D\", \"V\", \"W\", \"C\"],\n",
    "    7: [\"H\", \"B\", \"N\", \"C\", \"D\", \"Z\", \"G\", \"V\"],\n",
    "    8: [\"S\", \"J\", \"N\", \"M\", \"G\", \"C\"],\n",
    "    9: [\"G\", \"P\", \"N\", \"W\", \"C\", \"J\", \"D\", \"L\"],\n",
    "}"
   ]
  },
  {
   "cell_type": "markdown",
   "metadata": {},
   "source": [
    "# Helper Functions"
   ]
  },
  {
   "cell_type": "code",
   "execution_count": 3,
   "metadata": {},
   "outputs": [],
   "source": [
    "def move_9000(n:int, from_stack:int, to_stack:int, conf:dict) -> dict:\n",
    "    \"\"\"\n",
    "    For part 1: mover 9000\n",
    "    Move n create from from_stack to to_stack starting at\n",
    "    conf. Returns updated conf.\n",
    "    \"\"\"\n",
    "    # create a copy of conf to work on\n",
    "    working_conf = copy.deepcopy(conf)\n",
    "\n",
    "    for i in range(n):\n",
    "        # take top create\n",
    "        taken_crate = working_conf[from_stack].pop()\n",
    "\n",
    "        # place taken crate\n",
    "        working_conf[to_stack].append(taken_crate)\n",
    "\n",
    "    # return updated conf\n",
    "    return working_conf\n"
   ]
  },
  {
   "cell_type": "code",
   "execution_count": 4,
   "metadata": {},
   "outputs": [],
   "source": [
    "def move_9001(n:int, from_stack:int, to_stack:int, conf:dict) -> dict:\n",
    "    \"\"\"\n",
    "    For part 2: mover 9001\n",
    "    Move n create from from_stack to to_stack starting at\n",
    "    conf. Returns updated conf.\n",
    "    \"\"\"\n",
    "    # create a copy of conf to work on\n",
    "    working_conf = copy.deepcopy(conf)\n",
    "\n",
    "    # take top create(s)\n",
    "    taken_crates = working_conf[from_stack][-n:] # select\n",
    "    working_conf[from_stack] = working_conf[from_stack][:-n] # update\n",
    "\n",
    "\n",
    "    # place taken crate(s)\n",
    "    working_conf[to_stack] += taken_crates\n",
    "\n",
    "    # return updated conf\n",
    "    return working_conf"
   ]
  },
  {
   "cell_type": "code",
   "execution_count": 5,
   "metadata": {},
   "outputs": [],
   "source": [
    "def get_move_params(command:str) -> tuple:\n",
    "    \"\"\"\n",
    "    Get n, from, to params from command string\n",
    "    \"\"\"\n",
    "    # get words\n",
    "    words = command.strip().split(\" \")\n",
    "\n",
    "    # get params as ints\n",
    "    n = int(words[1])\n",
    "    from_stack = int(words[3])\n",
    "    to_stack = int(words[5])\n",
    "\n",
    "    # return params\n",
    "    return n, from_stack, to_stack"
   ]
  },
  {
   "cell_type": "code",
   "execution_count": 6,
   "metadata": {},
   "outputs": [],
   "source": [
    "def get_top_crates(conf:dict) -> str:\n",
    "    \"\"\"\n",
    "    Get the top crates from all stacks.\n",
    "    \"\"\"\n",
    "    tops = \"\"\n",
    "\n",
    "    for _ , stack in conf.items():\n",
    "        tops += stack[-1]\n",
    "    \n",
    "    return tops"
   ]
  },
  {
   "cell_type": "markdown",
   "metadata": {},
   "source": [
    "# Solve Problem"
   ]
  },
  {
   "cell_type": "markdown",
   "metadata": {},
   "source": [
    "## Part 1"
   ]
  },
  {
   "cell_type": "code",
   "execution_count": 7,
   "metadata": {},
   "outputs": [],
   "source": [
    "# start with original conf\n",
    "conf_1 = copy.deepcopy(conf)"
   ]
  },
  {
   "cell_type": "code",
   "execution_count": 8,
   "metadata": {},
   "outputs": [],
   "source": [
    "# get sequence of moves from file\n",
    "with open(\"./inputs/day_05_p1.txt\", \"r\") as f:\n",
    "    lines = f.readlines()\n",
    "\n",
    "# execute all commands in sequence\n",
    "for line in lines:\n",
    "    # get move params\n",
    "    n, from_stack, to_stack = get_move_params(command=line)\n",
    "\n",
    "    # execute move\n",
    "    conf_1 = move_9000(n, from_stack, to_stack, conf_1)"
   ]
  },
  {
   "cell_type": "code",
   "execution_count": 9,
   "metadata": {},
   "outputs": [
    {
     "data": {
      "text/plain": [
       "'CWMTGHBDW'"
      ]
     },
     "execution_count": 9,
     "metadata": {},
     "output_type": "execute_result"
    }
   ],
   "source": [
    "# get top crates\n",
    "get_top_crates(conf_1)"
   ]
  },
  {
   "cell_type": "markdown",
   "metadata": {},
   "source": [
    "## Part 2"
   ]
  },
  {
   "cell_type": "code",
   "execution_count": 10,
   "metadata": {},
   "outputs": [],
   "source": [
    "# start with original conf\n",
    "conf_2= copy.deepcopy(conf)"
   ]
  },
  {
   "cell_type": "code",
   "execution_count": 11,
   "metadata": {},
   "outputs": [],
   "source": [
    "# get sequence of moves from file\n",
    "with open(\"./inputs/day_05_p2.txt\", \"r\") as f:\n",
    "    lines = f.readlines()\n",
    "\n",
    "# execute all commands in sequence\n",
    "for line in lines:\n",
    "    # get move params\n",
    "    n, from_stack, to_stack = get_move_params(command=line)\n",
    "\n",
    "    # execute move\n",
    "    conf_2 = move_9001(n, from_stack, to_stack, conf_2)"
   ]
  },
  {
   "cell_type": "code",
   "execution_count": 12,
   "metadata": {},
   "outputs": [
    {
     "data": {
      "text/plain": [
       "'SSCGWJCRB'"
      ]
     },
     "execution_count": 12,
     "metadata": {},
     "output_type": "execute_result"
    }
   ],
   "source": [
    "# get top crates\n",
    "get_top_crates(conf_2)"
   ]
  }
 ],
 "metadata": {
  "kernelspec": {
   "display_name": "Python 3.9.7 ('base')",
   "language": "python",
   "name": "python3"
  },
  "language_info": {
   "codemirror_mode": {
    "name": "ipython",
    "version": 3
   },
   "file_extension": ".py",
   "mimetype": "text/x-python",
   "name": "python",
   "nbconvert_exporter": "python",
   "pygments_lexer": "ipython3",
   "version": "3.9.7"
  },
  "orig_nbformat": 4,
  "vscode": {
   "interpreter": {
    "hash": "40d3a090f54c6569ab1632332b64b2c03c39dcf918b08424e98f38b5ae0af88f"
   }
  }
 },
 "nbformat": 4,
 "nbformat_minor": 2
}
