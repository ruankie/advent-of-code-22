{
 "cells": [
  {
   "cell_type": "code",
   "execution_count": 1,
   "metadata": {},
   "outputs": [],
   "source": [
    "import numpy as np\n",
    "import re"
   ]
  },
  {
   "cell_type": "markdown",
   "metadata": {},
   "source": [
    "# Load Input"
   ]
  },
  {
   "cell_type": "code",
   "execution_count": 14,
   "metadata": {},
   "outputs": [
    {
     "data": {
      "text/plain": [
       "(5, 5)"
      ]
     },
     "execution_count": 14,
     "metadata": {},
     "output_type": "execute_result"
    }
   ],
   "source": [
    "forest = np.array(\n",
    "    [\n",
    "        [3,0,3,7,3],\n",
    "        [2,5,5,1,2],\n",
    "        [6,5,3,3,2],\n",
    "        [3,3,5,4,9],\n",
    "        [3,5,3,9,0]\n",
    "    ]\n",
    ")\n",
    "\n",
    "forest.shape"
   ]
  },
  {
   "cell_type": "code",
   "execution_count": 3,
   "metadata": {},
   "outputs": [],
   "source": [
    "# # get sequence of moves from file\n",
    "# with open(\"./inputs/day_08_p1.txt\", \"r\") as f:\n",
    "#     lines = f.readlines()\n",
    "\n",
    "# # execute all commands in sequence\n",
    "# rows = []\n",
    "# for line in lines:\n",
    "#     # get move params\n",
    "#     row = list(map(int, re.findall(\"[0-9]\" ,line.strip())))\n",
    "#     rows.append(row)\n",
    "\n",
    "# forest = np.array(rows)"
   ]
  },
  {
   "cell_type": "markdown",
   "metadata": {},
   "source": [
    "# Helper Functions"
   ]
  },
  {
   "cell_type": "code",
   "execution_count": 4,
   "metadata": {},
   "outputs": [],
   "source": [
    "# row = forest[0,:]\n",
    "# col = forest[:,0]"
   ]
  },
  {
   "cell_type": "code",
   "execution_count": 5,
   "metadata": {},
   "outputs": [],
   "source": [
    "def is_vis_top_bottom(i:int, j:int, forest:np.ndarray) -> bool:\n",
    "    \"\"\"\n",
    "    Check if tree at position (i,j) in the forest\n",
    "    is visible from the top or bottom. Returns True if visible, \n",
    "    False otherwise.\n",
    "    \"\"\"\n",
    "    # get height of the tree in question\n",
    "    h = forest[i, j]\n",
    "\n",
    "    # get column of trees\n",
    "    trees = forest[:,j]\n",
    "\n",
    "    # get all trees in view (before and after the tree in question)\n",
    "    before = trees[:j]\n",
    "    after = trees[j+1:]\n",
    "\n",
    "    # is visible from top\n",
    "    if before.shape == (0,):\n",
    "        vis_from_top = True\n",
    "    else:\n",
    "        vis_from_top = all(h > before)\n",
    "\n",
    "    # is visible from bottom\n",
    "    if after.shape == (0,):\n",
    "        vis_from_bottom = True\n",
    "    else:\n",
    "        vis_from_bottom = all(h > after)\n",
    "    \n",
    "    # is visible from top or bottom\n",
    "    return (vis_from_top or vis_from_bottom)"
   ]
  },
  {
   "cell_type": "code",
   "execution_count": 6,
   "metadata": {},
   "outputs": [],
   "source": [
    "def is_vis_left_right(i:int, j:int, forest:np.ndarray) -> bool:\n",
    "    \"\"\"\n",
    "    Check if tree at position (i,j) in the forest\n",
    "    is visible from the top or bottom. Returns True if visible, \n",
    "    False otherwise.\n",
    "    \"\"\"\n",
    "    # get height of the tree in question\n",
    "    h = forest[i, j]\n",
    "\n",
    "    # get row of trees\n",
    "    trees = forest[i,:]\n",
    "\n",
    "    # get all trees in view (before and after the tree in question)\n",
    "    before = trees[:i]\n",
    "    after = trees[i+1:]\n",
    "\n",
    "    # is visible from left\n",
    "    if before.shape == (0,):\n",
    "        vis_from_left = True\n",
    "    else:\n",
    "        vis_from_left = all(h > before)\n",
    "\n",
    "    # is visible from right\n",
    "    if after.shape == (0,):\n",
    "        vis_from_right = True\n",
    "    else:\n",
    "        vis_from_right = all(h > after)\n",
    "    \n",
    "    # is visible from left or right\n",
    "    return (vis_from_left or vis_from_right)"
   ]
  },
  {
   "cell_type": "code",
   "execution_count": 7,
   "metadata": {},
   "outputs": [],
   "source": [
    "def is_visible(i:int, j:int, forest:np.ndarray) -> bool:\n",
    "    \"\"\"\n",
    "    Check if tree at position (i,j) in the forest\n",
    "    is visible from the top/bottom/left/right. \n",
    "    Returns True if visible, False otherwise.\n",
    "    \"\"\"\n",
    "    tb = is_vis_top_bottom(i, j, forest)\n",
    "    lr = is_vis_left_right(i, j, forest)\n",
    "    return (tb or lr)"
   ]
  },
  {
   "cell_type": "markdown",
   "metadata": {},
   "source": [
    "# Solve Problem"
   ]
  },
  {
   "cell_type": "markdown",
   "metadata": {},
   "source": [
    "## Part 1"
   ]
  },
  {
   "cell_type": "code",
   "execution_count": 8,
   "metadata": {},
   "outputs": [],
   "source": [
    "# initialise visibility matrix\n",
    "vis = np.zeros_like(forest)"
   ]
  },
  {
   "cell_type": "code",
   "execution_count": 9,
   "metadata": {},
   "outputs": [],
   "source": [
    "for i in range(forest.shape[0]):\n",
    "    for j in range(forest.shape[1]):\n",
    "        vis[i, j] = is_visible(i, j, forest)"
   ]
  },
  {
   "cell_type": "code",
   "execution_count": 10,
   "metadata": {},
   "outputs": [
    {
     "data": {
      "text/plain": [
       "array([[1, 1, 1, 1, 1],\n",
       "       [1, 1, 1, 0, 1],\n",
       "       [1, 1, 0, 0, 1],\n",
       "       [1, 1, 0, 0, 1],\n",
       "       [1, 1, 1, 1, 1]])"
      ]
     },
     "execution_count": 10,
     "metadata": {},
     "output_type": "execute_result"
    }
   ],
   "source": [
    "vis"
   ]
  },
  {
   "cell_type": "code",
   "execution_count": 11,
   "metadata": {},
   "outputs": [
    {
     "data": {
      "text/plain": [
       "20"
      ]
     },
     "execution_count": 11,
     "metadata": {},
     "output_type": "execute_result"
    }
   ],
   "source": [
    "# count visible trees\n",
    "vis.sum()"
   ]
  },
  {
   "cell_type": "code",
   "execution_count": 12,
   "metadata": {},
   "outputs": [
    {
     "data": {
      "text/plain": [
       "array([[3, 0, 3, 7, 3],\n",
       "       [2, 5, 5, 1, 2],\n",
       "       [6, 5, 3, 3, 2],\n",
       "       [3, 3, 5, 4, 9],\n",
       "       [3, 5, 3, 9, 0]])"
      ]
     },
     "execution_count": 12,
     "metadata": {},
     "output_type": "execute_result"
    }
   ],
   "source": [
    "forest"
   ]
  }
 ],
 "metadata": {
  "kernelspec": {
   "display_name": "Python 3.9.7 ('base')",
   "language": "python",
   "name": "python3"
  },
  "language_info": {
   "codemirror_mode": {
    "name": "ipython",
    "version": 3
   },
   "file_extension": ".py",
   "mimetype": "text/x-python",
   "name": "python",
   "nbconvert_exporter": "python",
   "pygments_lexer": "ipython3",
   "version": "3.9.13"
  },
  "orig_nbformat": 4,
  "vscode": {
   "interpreter": {
    "hash": "40d3a090f54c6569ab1632332b64b2c03c39dcf918b08424e98f38b5ae0af88f"
   }
  }
 },
 "nbformat": 4,
 "nbformat_minor": 2
}
